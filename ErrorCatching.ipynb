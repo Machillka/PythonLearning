{
 "cells": [
  {
   "cell_type": "markdown",
   "metadata": {},
   "source": [
    "关于 异常的捕获 语法学习"
   ]
  },
  {
   "cell_type": "code",
   "execution_count": 6,
   "metadata": {},
   "outputs": [
    {
     "name": "stdout",
     "output_type": "stream",
     "text": [
      "Error 1!\n",
      "Error 2!\n",
      "name 'Machillka' is not defined\n",
      "Error 3!\n",
      "name 'Machillka' is not defined\n"
     ]
    }
   ],
   "source": [
    "# 可以捕获到所有的异常\n",
    "try:\n",
    "    open(\"Machillka.map\", \"r\", encoding = 'UTF-8')\n",
    "except:\n",
    "    print(\"Error 1!\")\n",
    "\n",
    "\n",
    "# 捕获特定异常\n",
    "try:\n",
    "    print(Machillka)\n",
    "except NameError as error: \n",
    "    print(\"Error 2!\")\n",
    "    print(error)\n",
    "\n",
    "# 捕获所有异常 -> 使用父类接收\n",
    "try:\n",
    "    print(Machillka)                    # 检测到异常, 直接跳转到 except 运行\n",
    "    print(1 / 0)\n",
    "except Exception as error:\n",
    "    print(\"Error 3!\")\n",
    "    print(error)"
   ]
  },
  {
   "cell_type": "code",
   "execution_count": 1,
   "metadata": {},
   "outputs": [
    {
     "name": "stdout",
     "output_type": "stream",
     "text": [
      "Machillka\n",
      "Code running...\n"
     ]
    }
   ],
   "source": [
    "# else -> 如果 try 中没有异常, 执行\n",
    "try:\n",
    "    print(\"Machillka\")\n",
    "except Exception as error:\n",
    "    print(\"Error!\", error)\n",
    "else:\n",
    "    print(\"Code running...\")"
   ]
  },
  {
   "cell_type": "code",
   "execution_count": 4,
   "metadata": {},
   "outputs": [
    {
     "name": "stdout",
     "output_type": "stream",
     "text": [
      "Machillka\n",
      "Code running...\n",
      "finally\n",
      "\n",
      "\n",
      "Error! name 'Machillka' is not defined\n",
      "finally\n"
     ]
    }
   ],
   "source": [
    "# finally -> 无论是否有异常均执行\n",
    "try:\n",
    "    print(\"Machillka\")\n",
    "except Exception as error:\n",
    "    print(\"Error!\", error)\n",
    "else:\n",
    "    print(\"Code running...\")\n",
    "finally:\n",
    "    print(\"finally\\n\\n\")\n",
    "\n",
    "try:\n",
    "    print(Machillka)\n",
    "except Exception as error:\n",
    "    print(\"Error!\", error)\n",
    "else:\n",
    "    print(\"Code running...\")\n",
    "finally:\n",
    "    print(\"finally\")"
   ]
  }
 ],
 "metadata": {
  "kernelspec": {
   "display_name": "Python 3",
   "language": "python",
   "name": "python3"
  },
  "language_info": {
   "codemirror_mode": {
    "name": "ipython",
    "version": 3
   },
   "file_extension": ".py",
   "mimetype": "text/x-python",
   "name": "python",
   "nbconvert_exporter": "python",
   "pygments_lexer": "ipython3",
   "version": "3.10.5"
  }
 },
 "nbformat": 4,
 "nbformat_minor": 2
}
