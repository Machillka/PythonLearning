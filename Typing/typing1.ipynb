{
 "cells": [
  {
   "cell_type": "code",
   "execution_count": 2,
   "metadata": {},
   "outputs": [],
   "source": [
    "# 基本函数注解，注解变量类型\n",
    "\n",
    "def foo1(\n",
    "    name: str,\n",
    "    age: int,\n",
    "    length: float,\n",
    "    sex: bool = True,\n",
    ") -> None:\n",
    "    print(\"this is foo 1\")\n",
    "\n",
    "# 支持自定义类型, 可以用字符串格式占位\n",
    "def foo2(\n",
    "    person: 'Person'\n",
    ") -> str:\n",
    "    print(person.name)\n",
    "\n",
    "class Person():\n",
    "    def __init__(self) -> None:\n",
    "        self.name = \"Machillka\""
   ]
  },
  {
   "cell_type": "code",
   "execution_count": 3,
   "metadata": {},
   "outputs": [],
   "source": [
    "# 容器类型\n",
    "from typing import List, Dict, Tuple, Sequence\n",
    "\n",
    "a: Tuple[int, int]= (1, 1)\n",
    "\n",
    "def foo3(\n",
    "    arg1: List[int],\n",
    "    arg2: Dict[str, int],\n",
    "    arg3: Tuple[float, int, bool]\n",
    ") -> Sequence[int]:\n",
    "    return [1, 1, 2, 3, 4]"
   ]
  },
  {
   "cell_type": "code",
   "execution_count": 5,
   "metadata": {},
   "outputs": [],
   "source": [
    "# 可选返回值\n",
    "from typing import Optional, Union\n",
    "\n",
    "# 匹配 —> 对应返回值；不匹配 -> None\n",
    "def OptionalFoo(\n",
    "    length: int = 1\n",
    ") -> Optional[int]:\n",
    "    if length != 1:\n",
    "        return length\n",
    "    # 函数隐式返回 None\n",
    "\n",
    "# 多个返回值类型匹配\n",
    "def UnionFool() -> Union[int, float]: ..."
   ]
  },
  {
   "cell_type": "code",
   "execution_count": 10,
   "metadata": {},
   "outputs": [],
   "source": [
    "# 可调用类型\n",
    "from typing import Callable\n",
    "\n",
    "def Call(fo: Callable) -> None:\n",
    "    fo()\n",
    "\n",
    "Call(OptionalFoo)"
   ]
  },
  {
   "cell_type": "code",
   "execution_count": 11,
   "metadata": {},
   "outputs": [
    {
     "name": "stdout",
     "output_type": "stream",
     "text": [
      "left\n"
     ]
    }
   ],
   "source": [
    "# 简单枚举类型\n",
    "from typing import Literal\n",
    "DIRECTION = Literal['left', 'right']\n",
    "def DirectionFoo(dir:DIRECTION):\n",
    "    print(dir)\n",
    "\n",
    "DirectionFoo('left')"
   ]
  },
  {
   "cell_type": "code",
   "execution_count": null,
   "metadata": {},
   "outputs": [],
   "source": [
    "# 泛型\n",
    "from typing import TypeVar\n",
    "\n",
    "T = TypeVar(\"T\", float, int)\n",
    "\n",
    "def MaxNum(a:T, b:T) -> Union[T, bool]:\n",
    "    if a > b:\n",
    "        return a\n",
    "    elif b > a:\n",
    "        return b\n",
    "    \n",
    "    return False\n",
    "\n",
    "K = TypeVar(\"K\")\n",
    "V = TypeVar(\"V\")\n",
    "def GetDictVal(\n",
    "    key: K,\n",
    "    container: Dict[K, V]\n",
    ") -> V:\n",
    "    return container[K]"
   ]
  }
 ],
 "metadata": {
  "kernelspec": {
   "display_name": "base",
   "language": "python",
   "name": "python3"
  },
  "language_info": {
   "codemirror_mode": {
    "name": "ipython",
    "version": 3
   },
   "file_extension": ".py",
   "mimetype": "text/x-python",
   "name": "python",
   "nbconvert_exporter": "python",
   "pygments_lexer": "ipython3",
   "version": "3.11.5"
  }
 },
 "nbformat": 4,
 "nbformat_minor": 2
}
