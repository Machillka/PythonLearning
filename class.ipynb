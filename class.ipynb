{
 "cells": [
  {
   "cell_type": "code",
   "execution_count": 4,
   "metadata": {},
   "outputs": [],
   "source": [
    "class Person():\n",
    "    def __init__(self) -> None:\n",
    "        self.height = 1\n",
    "        self._id = 0                                # protect, read only\n",
    "        self.__info = 'test'                        # private "
   ]
  },
  {
   "cell_type": "code",
   "execution_count": 5,
   "metadata": {},
   "outputs": [
    {
     "name": "stdout",
     "output_type": "stream",
     "text": [
      "0\n"
     ]
    },
    {
     "ename": "AttributeError",
     "evalue": "'Person' object has no attribute '__id'",
     "output_type": "error",
     "traceback": [
      "\u001b[1;31m---------------------------------------------------------------------------\u001b[0m",
      "\u001b[1;31mAttributeError\u001b[0m                            Traceback (most recent call last)",
      "\u001b[1;32mUntitled-1.ipynb Cell 2\u001b[0m line \u001b[0;36m3\n\u001b[0;32m      <a href='vscode-notebook-cell:Untitled-1.ipynb?jupyter-notebook#W1sdW50aXRsZWQ%3D?line=0'>1</a>\u001b[0m so1ve \u001b[39m=\u001b[39m Person()\n\u001b[1;32m----> <a href='vscode-notebook-cell:Untitled-1.ipynb?jupyter-notebook#W1sdW50aXRsZWQ%3D?line=2'>3</a>\u001b[0m \u001b[39mprint\u001b[39m(so1ve\u001b[39m.\u001b[39;49m__id)\n",
      "\u001b[1;31mAttributeError\u001b[0m: 'Person' object has no attribute '__id'"
     ]
    }
   ],
   "source": [
    "so1ve = Person()\n",
    "\n",
    "print(so1ve.__id)"
   ]
  },
  {
   "cell_type": "code",
   "execution_count": 2,
   "metadata": {},
   "outputs": [],
   "source": [
    "class Circle():\n",
    "    def __init__(self, r) -> None:\n",
    "        self.r = r\n",
    "    \n",
    "    def __len__(self):\n",
    "        '''\n",
    "        define len()\n",
    "        '''\n",
    "        return self.r\n",
    "    \n",
    "    def __eq__(self, other):\n",
    "        '''\n",
    "        define a == b\n",
    "        '''\n",
    "        return len(self) == len(other)\n",
    "    \n",
    "    def __gt__(self, other):\n",
    "        '''\n",
    "        define a > b\n",
    "        gt: greater\n",
    "        '''\n",
    "        return len(self) > len(other)\n",
    "    \n",
    "    def __lt__(self, other):\n",
    "        '''\n",
    "        define a > b\n",
    "        gt: greater\n",
    "        '''\n",
    "        return len(self) < len(other)\n",
    "    \n",
    "    def __ge__(self, other):\n",
    "        '''\n",
    "        define a > b\n",
    "        gt: greater\n",
    "        '''\n",
    "        return len(self) >= len(other)\n",
    "    \n",
    "    def __le__(self, other):\n",
    "        '''\n",
    "        define a > b\n",
    "        gt: greater\n",
    "        '''\n",
    "        return len(self) <= len(other)"
   ]
  },
  {
   "cell_type": "code",
   "execution_count": 6,
   "metadata": {},
   "outputs": [
    {
     "name": "stdout",
     "output_type": "stream",
     "text": [
      "False\n",
      "False\n",
      "True\n"
     ]
    }
   ],
   "source": [
    "a = Circle(5)\n",
    "b = Circle(6)\n",
    "print(a == b)\n",
    "\n",
    "print(Circle(1) > Circle(2))\n",
    "print(Circle(1) <= Circle(2))"
   ]
  }
 ],
 "metadata": {
  "kernelspec": {
   "display_name": "Python 3",
   "language": "python",
   "name": "python3"
  },
  "language_info": {
   "codemirror_mode": {
    "name": "ipython",
    "version": 3
   },
   "file_extension": ".py",
   "mimetype": "text/x-python",
   "name": "python",
   "nbconvert_exporter": "python",
   "pygments_lexer": "ipython3",
   "version": "3.10.11"
  }
 },
 "nbformat": 4,
 "nbformat_minor": 2
}
