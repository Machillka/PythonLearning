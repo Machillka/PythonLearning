{
 "cells": [
  {
   "cell_type": "code",
   "execution_count": 3,
   "metadata": {},
   "outputs": [
    {
     "name": "stdout",
     "output_type": "stream",
     "text": [
      "5\n",
      "6\n"
     ]
    }
   ],
   "source": [
    "from typing import Any\n",
    "class IterNumber():\n",
    "    \"\"\"\n",
    "    可以自迭代的数字\n",
    "    \"\"\"\n",
    "    def __init__(self, data) -> None:\n",
    "        self.data = data\n",
    "    \n",
    "    def __iter__(self) -> Any:\n",
    "        return self\n",
    "    \n",
    "    def __next__(self) -> int:\n",
    "        x = self.data\n",
    "\n",
    "        self.data += 1\n",
    "\n",
    "        return x\n",
    "    \n",
    "test = IterNumber(5)\n",
    "iterNum = iter(test)\n",
    "print(next(iterNum))\n",
    "print(next(iterNum))"
   ]
  },
  {
   "cell_type": "code",
   "execution_count": 12,
   "metadata": {},
   "outputs": [
    {
     "name": "stdout",
     "output_type": "stream",
     "text": [
      "1\n",
      "2\n",
      "3\n"
     ]
    }
   ],
   "source": [
    "class MyRange():\n",
    "    \"\"\"\n",
    "    自定义 range\n",
    "    \"\"\"\n",
    "    def __init__(\n",
    "        self,\n",
    "        start,\n",
    "        end,\n",
    "        step:int = 1\n",
    "    ) -> None:\n",
    "    \n",
    "        self.start = start\n",
    "        self.end = end\n",
    "        self.step = step\n",
    "        self.data = start\n",
    "\n",
    "    def __call__(self):\n",
    "        return iter(self)\n",
    "\n",
    "    def __iter__(self):\n",
    "        return self\n",
    "\n",
    "    def __next__(self):\n",
    "        x = self.data\n",
    "\n",
    "        self.data += self.step\n",
    "\n",
    "        if x < self.end:\n",
    "            return x\n",
    "        \n",
    "        raise StopIteration\n",
    "\n",
    "# for i in iter(MyRange(0, 5, 1)):\n",
    "#     print(i)\n",
    "\n",
    "for i in MyRange(1, 4, 1):\n",
    "    print(i)"
   ]
  }
 ],
 "metadata": {
  "kernelspec": {
   "display_name": "Python 3",
   "language": "python",
   "name": "python3"
  },
  "language_info": {
   "codemirror_mode": {
    "name": "ipython",
    "version": 3
   },
   "file_extension": ".py",
   "mimetype": "text/x-python",
   "name": "python",
   "nbconvert_exporter": "python",
   "pygments_lexer": "ipython3",
   "version": "3.10.11"
  }
 },
 "nbformat": 4,
 "nbformat_minor": 2
}
