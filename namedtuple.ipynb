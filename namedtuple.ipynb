{
 "cells": [
  {
   "cell_type": "code",
   "execution_count": 1,
   "metadata": {},
   "outputs": [],
   "source": [
    "from collections import namedtuple\n",
    "import numpy as np"
   ]
  },
  {
   "cell_type": "code",
   "execution_count": 16,
   "metadata": {},
   "outputs": [
    {
     "name": "stdout",
     "output_type": "stream",
     "text": [
      "Point(x=1, y=2)\n",
      "1\n"
     ]
    }
   ],
   "source": [
    "Point = namedtuple('Point', 'x y')\n",
    "\n",
    "a = Point(1, 2)\n",
    "print(a)\n",
    "# a.x = 2                                                           # Can't rewrite the attribute\n",
    "print(a.x)"
   ]
  },
  {
   "cell_type": "code",
   "execution_count": 22,
   "metadata": {},
   "outputs": [
    {
     "name": "stdout",
     "output_type": "stream",
     "text": [
      "person(name='so1ve', children=['glx'])\n",
      "so1ve\n",
      "['glx', 'glxx']\n"
     ]
    }
   ],
   "source": [
    "Person = namedtuple('person', ['name', 'children'])                 # Person is a handle, person is a name. So we use 'Person' to instantiate a object\n",
    "so1ve = Person('so1ve', ['glx'])\n",
    "print(so1ve)\n",
    "print(so1ve.name)\n",
    "so1ve.children.append('glxx')\n",
    "print(so1ve.children)"
   ]
  },
  {
   "cell_type": "markdown",
   "metadata": {},
   "source": [
    "# namedtuple\n",
    "is similar to a class!\n",
    "so we can use _name, __name to provide a attribute(protect, readonly)"
   ]
  }
 ],
 "metadata": {
  "kernelspec": {
   "display_name": "Python 3",
   "language": "python",
   "name": "python3"
  },
  "language_info": {
   "codemirror_mode": {
    "name": "ipython",
    "version": 3
   },
   "file_extension": ".py",
   "mimetype": "text/x-python",
   "name": "python",
   "nbconvert_exporter": "python",
   "pygments_lexer": "ipython3",
   "version": "3.10.11"
  }
 },
 "nbformat": 4,
 "nbformat_minor": 2
}
