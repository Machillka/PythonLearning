{
 "cells": [
  {
   "cell_type": "code",
   "execution_count": 11,
   "metadata": {},
   "outputs": [
    {
     "name": "stdout",
     "output_type": "stream",
     "text": [
      "Calling... InfoArg\n",
      "PersonalInfo\n",
      "New Info\n"
     ]
    }
   ],
   "source": [
    "from typing import Any, List, AnyStr\n",
    "\n",
    "\n",
    "class Person:\n",
    "    def __init__(\n",
    "        self,\n",
    "        name,\n",
    "        age,\n",
    "    ) -> None:\n",
    "        self.name = name\n",
    "        self.age = age\n",
    "\n",
    "        self._personalInfo = \"PersonalInfo\"\n",
    "    \n",
    "    @property\n",
    "    def GetPersonalInfo(self): return self._personalInfo\n",
    "\n",
    "    @property\n",
    "    def personalInfo(self): return self._personalInfo\n",
    "\n",
    "    @personalInfo.setter\n",
    "    def personalInfo(self, newInfo):\n",
    "        self._personalInfo = newInfo\n",
    "\n",
    "\n",
    "    def __call__(self, info) -> Any:\n",
    "        \"\"\"\n",
    "        call magic function is similiar to \" 伪函数 \"\n",
    "        \"\"\"\n",
    "        print(\"Calling...\", info)\n",
    "        return self.name\n",
    "\n",
    "    def __len__(self) -> int:\n",
    "        \"\"\"\n",
    "        This mathod can make the class adapted to \"len()\"\n",
    "        \"\"\"\n",
    "        return self.age\n",
    "\n",
    "machillka = Person(\"Machillka\", 1145)\n",
    "\n",
    "name = machillka(\"InfoArg\")\n",
    "print(machillka.GetPersonalInfo)\n",
    "machillka.personalInfo = \"New Info\"\n",
    "print(machillka.personalInfo)"
   ]
  },
  {
   "cell_type": "code",
   "execution_count": null,
   "metadata": {},
   "outputs": [],
   "source": []
  }
 ],
 "metadata": {
  "kernelspec": {
   "display_name": "Python 3",
   "language": "python",
   "name": "python3"
  },
  "language_info": {
   "codemirror_mode": {
    "name": "ipython",
    "version": 3
   },
   "file_extension": ".py",
   "mimetype": "text/x-python",
   "name": "python",
   "nbconvert_exporter": "python",
   "pygments_lexer": "ipython3",
   "version": "3.10.11"
  }
 },
 "nbformat": 4,
 "nbformat_minor": 2
}
